{
 "cells": [
  {
   "metadata": {},
   "cell_type": "markdown",
   "source": "# Automatic Differentiation with torch.autograd",
   "id": "65b4ad52051026dc"
  },
  {
   "cell_type": "code",
   "id": "initial_id",
   "metadata": {
    "collapsed": true,
    "ExecuteTime": {
     "end_time": "2025-08-17T03:52:39.752168Z",
     "start_time": "2025-08-17T03:52:38.142159Z"
    }
   },
   "source": "import torch",
   "outputs": [],
   "execution_count": 1
  },
  {
   "metadata": {
    "ExecuteTime": {
     "end_time": "2025-08-17T03:57:59.692224Z",
     "start_time": "2025-08-17T03:57:59.686812Z"
    }
   },
   "cell_type": "code",
   "source": [
    "x = torch.ones(5)  # input tensor\n",
    "y = torch.zeros(3)  # expected output\n",
    "w = torch.randn(5, 3, requires_grad=True)\n",
    "b = torch.randn(3, requires_grad=True)\n",
    "print(f\"X Shape: {x.shape}\\n y Shape: {y.shape}\\n w Shape: {w.shape}\\n b Shape: {b.shape}\")\n",
    "print(f\"x: {x}\\ny: {y}\\nw: {w}\\nb: {b}\")"
   ],
   "id": "9c8295abb4f66dac",
   "outputs": [
    {
     "name": "stdout",
     "output_type": "stream",
     "text": [
      "X Shape: torch.Size([5])\n",
      " y Shape: torch.Size([3])\n",
      " w Shape: torch.Size([5, 3])\n",
      " b Shape: torch.Size([3])\n",
      "x: tensor([1., 1., 1., 1., 1.])\n",
      "y: tensor([0., 0., 0.])\n",
      "w: tensor([[-0.7311, -1.7569,  0.0081],\n",
      "        [ 0.6640, -0.8849,  0.7299],\n",
      "        [ 0.1673,  0.0291,  0.6865],\n",
      "        [ 0.1266,  0.5460,  0.1401],\n",
      "        [ 0.6023,  0.1726, -0.8535]], requires_grad=True)\n",
      "b: tensor([-1.4464,  0.3005, -0.1165], requires_grad=True)\n"
     ]
    }
   ],
   "execution_count": 9
  },
  {
   "metadata": {
    "ExecuteTime": {
     "end_time": "2025-08-17T03:58:25.711953Z",
     "start_time": "2025-08-17T03:58:25.707452Z"
    }
   },
   "cell_type": "code",
   "source": [
    "z = (x @ w) + b\n",
    "print(f\"z Shape: {z.shape}\")\n",
    "print(f\"z: {z}\")"
   ],
   "id": "de6f1347ae54d57a",
   "outputs": [
    {
     "name": "stdout",
     "output_type": "stream",
     "text": [
      "z Shape: torch.Size([3])\n",
      "z: tensor([-0.6173, -1.5937,  0.5947], grad_fn=<AddBackward0>)\n"
     ]
    }
   ],
   "execution_count": 10
  },
  {
   "metadata": {
    "ExecuteTime": {
     "end_time": "2025-08-17T03:58:28.499040Z",
     "start_time": "2025-08-17T03:58:28.495435Z"
    }
   },
   "cell_type": "code",
   "source": [
    "loss = torch.nn.functional.binary_cross_entropy_with_logits(z, y)\n",
    "print(f\"Loss: {loss}\")"
   ],
   "id": "5d88aa6420674654",
   "outputs": [
    {
     "name": "stdout",
     "output_type": "stream",
     "text": [
      "Loss: 0.5501523017883301\n"
     ]
    }
   ],
   "execution_count": 11
  },
  {
   "metadata": {
    "ExecuteTime": {
     "end_time": "2025-08-17T03:58:30.919534Z",
     "start_time": "2025-08-17T03:58:30.916537Z"
    }
   },
   "cell_type": "code",
   "source": [
    "print(f\"Gradient function for z = {z.grad_fn}\")\n",
    "print(f\"Gradient function for loss = {loss.grad_fn}\")"
   ],
   "id": "e12a0d2bba881336",
   "outputs": [
    {
     "name": "stdout",
     "output_type": "stream",
     "text": [
      "Gradient function for z = <AddBackward0 object at 0x000001B9024CDF90>\n",
      "Gradient function for loss = <BinaryCrossEntropyWithLogitsBackward0 object at 0x000001B93490C880>\n"
     ]
    }
   ],
   "execution_count": 12
  },
  {
   "metadata": {},
   "cell_type": "markdown",
   "source": "## Computing Gradients",
   "id": "234a2b0be7fe7720"
  },
  {
   "metadata": {
    "ExecuteTime": {
     "end_time": "2025-08-17T03:58:32.881154Z",
     "start_time": "2025-08-17T03:58:32.868732Z"
    }
   },
   "cell_type": "code",
   "source": [
    "loss.backward()\n",
    "print(w.grad)\n",
    "print(b.grad)"
   ],
   "id": "fbd61695f5231e29",
   "outputs": [
    {
     "name": "stdout",
     "output_type": "stream",
     "text": [
      "tensor([[0.1168, 0.0563, 0.2148],\n",
      "        [0.1168, 0.0563, 0.2148],\n",
      "        [0.1168, 0.0563, 0.2148],\n",
      "        [0.1168, 0.0563, 0.2148],\n",
      "        [0.1168, 0.0563, 0.2148]])\n",
      "tensor([0.1168, 0.0563, 0.2148])\n"
     ]
    }
   ],
   "execution_count": 13
  },
  {
   "metadata": {},
   "cell_type": "markdown",
   "source": "## Disabling Gradient Tracking",
   "id": "34de260a0d046b21"
  },
  {
   "metadata": {
    "ExecuteTime": {
     "end_time": "2025-08-17T04:00:37.937738Z",
     "start_time": "2025-08-17T04:00:37.932976Z"
    }
   },
   "cell_type": "code",
   "source": [
    "z = torch.matmul(x, w)+b\n",
    "print(z.requires_grad)\n",
    "\n",
    "with torch.no_grad():\n",
    "    z = torch.matmul(x, w)+b\n",
    "print(z.requires_grad)"
   ],
   "id": "6858e47ab657590f",
   "outputs": [
    {
     "name": "stdout",
     "output_type": "stream",
     "text": [
      "True\n",
      "False\n"
     ]
    }
   ],
   "execution_count": 14
  },
  {
   "metadata": {},
   "cell_type": "markdown",
   "source": "## Tensor Gradients and Jacobian Products",
   "id": "591bd2172efde629"
  },
  {
   "metadata": {
    "ExecuteTime": {
     "end_time": "2025-08-17T04:26:16.353271Z",
     "start_time": "2025-08-17T04:26:15.903983Z"
    }
   },
   "cell_type": "code",
   "source": [
    "inp = torch.eye(4, 5, requires_grad=True)\n",
    "out = (inp+1).pow(2).t()\n",
    "out.backward(torch.ones_like(out), retain_graph=True)\n",
    "print(f\"First call\\n{inp.grad}\")\n",
    "out.backward(torch.ones_like(out), retain_graph=True)\n",
    "print(f\"\\nSecond call\\n{inp.grad}\")\n",
    "inp.grad.zero_()\n",
    "out.backward(torch.ones_like(out), retain_graph=True)\n",
    "print(f\"\\nCall after zeroing gradients\\n{inp.grad}\")"
   ],
   "id": "4e26109351cc2261",
   "outputs": [
    {
     "name": "stdout",
     "output_type": "stream",
     "text": [
      "First call\n",
      "tensor([[4., 2., 2., 2., 2.],\n",
      "        [2., 4., 2., 2., 2.],\n",
      "        [2., 2., 4., 2., 2.],\n",
      "        [2., 2., 2., 4., 2.]])\n",
      "\n",
      "Second call\n",
      "tensor([[8., 4., 4., 4., 4.],\n",
      "        [4., 8., 4., 4., 4.],\n",
      "        [4., 4., 8., 4., 4.],\n",
      "        [4., 4., 4., 8., 4.]])\n",
      "\n",
      "Call after zeroing gradients\n",
      "tensor([[4., 2., 2., 2., 2.],\n",
      "        [2., 4., 2., 2., 2.],\n",
      "        [2., 2., 4., 2., 2.],\n",
      "        [2., 2., 2., 4., 2.]])\n"
     ]
    }
   ],
   "execution_count": 15
  }
 ],
 "metadata": {
  "kernelspec": {
   "display_name": "Python 3",
   "language": "python",
   "name": "python3"
  },
  "language_info": {
   "codemirror_mode": {
    "name": "ipython",
    "version": 2
   },
   "file_extension": ".py",
   "mimetype": "text/x-python",
   "name": "python",
   "nbconvert_exporter": "python",
   "pygments_lexer": "ipython2",
   "version": "2.7.6"
  }
 },
 "nbformat": 4,
 "nbformat_minor": 5
}
